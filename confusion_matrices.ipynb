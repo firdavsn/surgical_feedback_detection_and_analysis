{
 "cells": [
  {
   "cell_type": "code",
   "execution_count": 2,
   "metadata": {},
   "outputs": [],
   "source": [
    "import os\n",
    "import pandas as pd\n",
    "from sklearn.metrics import confusion_matrix\n",
    "import matplotlib.pyplot as plt\n",
    "import numpy as np"
   ]
  },
  {
   "cell_type": "code",
   "execution_count": 3,
   "metadata": {},
   "outputs": [
    {
     "data": {
      "text/plain": [
       "array([[2144,  358],\n",
       "       [ 474,  613]])"
      ]
     },
     "execution_count": 3,
     "metadata": {},
     "output_type": "execute_result"
    }
   ],
   "source": [
    "dialogue_paths = {case: f\"results/extract_dialogue/aligned_fb_detection/LFB{case}_full 'dialogue'.csv\" for case in [1, 2, 9, 10, 18]}\n",
    "dialogue_dfs = {case: pd.read_csv(path) for case, path in dialogue_paths.items()}\n",
    "dialogue_df = pd.concat(dialogue_dfs.values(), ignore_index=True)\n",
    "\n",
    "dialogue_cm = confusion_matrix(dialogue_df['true_fb_instance'], dialogue_df['pred_fb_instance'])\n",
    "dialogue_cm"
   ]
  },
  {
   "cell_type": "code",
   "execution_count": 4,
   "metadata": {},
   "outputs": [
    {
     "data": {
      "text/plain": [
       "array([[502, 197],\n",
       "       [180, 500]])"
      ]
     },
     "execution_count": 4,
     "metadata": {},
     "output_type": "execute_result"
    }
   ],
   "source": [
    "hall_paths = {case: f\"results/extract_dialogue/aligned_fb_detection/LFB{case}_full 'reduced hallucinations'.csv\" for case in [1, 2, 9, 10, 18]}\n",
    "hall_dfs = {case: pd.read_csv(path) for case, path in hall_paths.items()}\n",
    "hall_df = pd.concat(hall_dfs.values(), ignore_index=True)\n",
    "\n",
    "hall_cm = confusion_matrix(hall_df['true_fb_instance'], hall_df['pred_fb_instance'])\n",
    "hall_cm"
   ]
  },
  {
   "cell_type": "code",
   "execution_count": 5,
   "metadata": {},
   "outputs": [
    {
     "data": {
      "text/plain": [
       "array([[656, 115],\n",
       "       [115, 493]])"
      ]
     },
     "execution_count": 5,
     "metadata": {},
     "output_type": "execute_result"
    }
   ],
   "source": [
    "id_paths = {case: f\"results/extract_dialogue/aligned_fb_detection/LFB{case}_full 'all phrases'.csv\" for case in [1, 2, 9, 10, 18]}\n",
    "id_dfs = {case: pd.read_csv(path).replace(np.nan, None) for case, path in id_paths.items()}\n",
    "id_df = pd.concat(id_dfs.values(), ignore_index=True)\n",
    "\n",
    "id_cm = confusion_matrix(id_df['true_fb_instance'], id_df['pred_fb_instance'])\n",
    "id_cm"
   ]
  },
  {
   "cell_type": "code",
   "execution_count": 6,
   "metadata": {},
   "outputs": [],
   "source": [
    "fb_annot_df = pd.read_csv('../../clips_no_wiggle/fbk_cuts_no_wiggle_0_4210.csv')"
   ]
  },
  {
   "cell_type": "code",
   "execution_count": 13,
   "metadata": {},
   "outputs": [],
   "source": [
    "ratios = []\n",
    "\n",
    "for case_id in range(1, 34):\n",
    "    if case_id not in id_dfs:\n",
    "        continue\n",
    "    \n",
    "    annot_df = fb_annot_df[fb_annot_df['Case'] == case_id]\n",
    "\n",
    "    aligned_human_annotations = set()\n",
    "    for i in range(len(id_dfs[case_id])):\n",
    "        annotations = id_dfs[case_id].iloc[i]['human_annotations']\n",
    "        times = id_dfs[case_id].iloc[i]['human_annotations_times']\n",
    "        if annotations == None:\n",
    "            continue\n",
    "\n",
    "        annotations_list = [x.split(':')[1][1:] for x in annotations.split('\\n')[1:-1]]\n",
    "        times_list = [\":\".join(x.split(':')[1:]).strip() for x in times.split('\\n')[1:-1]]\n",
    "        \n",
    "        for i in range(len(annotations_list)):\n",
    "            aligned_human_annotations.add((annotations_list[i], times_list[i]))\n",
    "\n",
    "    aligned_human_annotations = sorted(list(aligned_human_annotations), key=lambda x: x[1])\n",
    "    \n",
    "    ratios.append(len(aligned_human_annotations) / len(annot_df))"
   ]
  },
  {
   "cell_type": "code",
   "execution_count": 14,
   "metadata": {},
   "outputs": [
    {
     "data": {
      "text/plain": [
       "[0.8107344632768362, 0.8186813186813187, 0.6, 0.8100558659217877, 0.79]"
      ]
     },
     "execution_count": 14,
     "metadata": {},
     "output_type": "execute_result"
    }
   ],
   "source": [
    "ratios"
   ]
  },
  {
   "cell_type": "code",
   "execution_count": 10,
   "metadata": {},
   "outputs": [
    {
     "data": {
      "text/plain": [
       "(149, 182)"
      ]
     },
     "execution_count": 10,
     "metadata": {},
     "output_type": "execute_result"
    }
   ],
   "source": [
    "len(aligned_human_annotations), len(annot_df)"
   ]
  }
 ],
 "metadata": {
  "kernelspec": {
   "display_name": ".venv2",
   "language": "python",
   "name": "python3"
  },
  "language_info": {
   "codemirror_mode": {
    "name": "ipython",
    "version": 3
   },
   "file_extension": ".py",
   "mimetype": "text/x-python",
   "name": "python",
   "nbconvert_exporter": "python",
   "pygments_lexer": "ipython3",
   "version": "3.10.12"
  }
 },
 "nbformat": 4,
 "nbformat_minor": 2
}
